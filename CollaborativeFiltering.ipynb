{
 "cells": [
  {
   "cell_type": "code",
   "execution_count": 1,
   "metadata": {
    "scrolled": true
   },
   "outputs": [],
   "source": [
    "import pandas as pd\n",
    "import pickle\n",
    "import matplotlib.pyplot as plt\n",
    "\n",
    "from surprise import Dataset, Reader, accuracy\n",
    "from surprise.model_selection import cross_validate, train_test_split, GridSearchCV\n",
    "from surprise.prediction_algorithms import knns, SVD, SVDpp, SlopeOne, NMF, BaselineOnly, NormalPredictor\n",
    "from surprise.similarities import cosine, msd, pearson, pearson_baseline\n",
    "\n",
    "plt.style.use('fast')\n",
    "%matplotlib inline"
   ]
  },
  {
   "cell_type": "code",
   "execution_count": 2,
   "metadata": {},
   "outputs": [],
   "source": [
    "df_rev5 = pd.read_csv('Data/df_rev5.csv')"
   ]
  },
  {
   "cell_type": "code",
   "execution_count": 3,
   "metadata": {
    "scrolled": false
   },
   "outputs": [
    {
     "name": "stdout",
     "output_type": "stream",
     "text": [
      "<class 'pandas.core.frame.DataFrame'>\n",
      "RangeIndex: 1307556 entries, 0 to 1307555\n",
      "Data columns (total 5 columns):\n",
      " #   Column      Non-Null Count    Dtype \n",
      "---  ------      --------------    ----- \n",
      " 0   Unnamed: 0  1307556 non-null  int64 \n",
      " 1   overall     1307556 non-null  int64 \n",
      " 2   reviewerID  1307556 non-null  object\n",
      " 3   asin        1307556 non-null  object\n",
      " 4   reviewText  1307550 non-null  object\n",
      "dtypes: int64(2), object(3)\n",
      "memory usage: 49.9+ MB\n"
     ]
    }
   ],
   "source": [
    "df_rev5.info()"
   ]
  },
  {
   "cell_type": "code",
   "execution_count": 4,
   "metadata": {
    "scrolled": true
   },
   "outputs": [
    {
     "data": {
      "text/plain": [
       "Unnamed: 0    0\n",
       "overall       0\n",
       "reviewerID    0\n",
       "asin          0\n",
       "reviewText    6\n",
       "dtype: int64"
      ]
     },
     "execution_count": 4,
     "metadata": {},
     "output_type": "execute_result"
    }
   ],
   "source": [
    "df_rev5.isna().sum()"
   ]
  },
  {
   "cell_type": "code",
   "execution_count": 5,
   "metadata": {},
   "outputs": [],
   "source": [
    "df_rev5.dropna(inplace=True)"
   ]
  },
  {
   "cell_type": "code",
   "execution_count": 6,
   "metadata": {},
   "outputs": [],
   "source": [
    "reader = Reader(rating_scale=(1, 5))\n",
    "user_data = Dataset.load_from_df(df_rev5[['reviewerID', 'asin', 'overall']], reader)\n",
    "\n",
    "trainset, testset = train_test_split(user_data, test_size=0.2, random_state=42)"
   ]
  },
  {
   "cell_type": "code",
   "execution_count": 7,
   "metadata": {
    "scrolled": true
   },
   "outputs": [
    {
     "name": "stdout",
     "output_type": "stream",
     "text": [
      "Number of users:  98033 \n",
      "\n",
      "Number of items:  92347 \n",
      "\n"
     ]
    }
   ],
   "source": [
    "print('Number of users: ', trainset.n_users, '\\n')\n",
    "print('Number of items: ', trainset.n_items, '\\n')"
   ]
  },
  {
   "cell_type": "code",
   "execution_count": 13,
   "metadata": {},
   "outputs": [
    {
     "name": "stdout",
     "output_type": "stream",
     "text": [
      "RMSE: 1.2355\n"
     ]
    },
    {
     "data": {
      "text/plain": [
       "1.2354699762635104"
      ]
     },
     "execution_count": 13,
     "metadata": {},
     "output_type": "execute_result"
    }
   ],
   "source": [
    "baseline = NormalPredictor()\n",
    "baseline.fit(trainset)\n",
    "predictions = baseline.test(testset)\n",
    "baseline_normal = accuracy.rmse(predictions)"
   ]
  },
  {
   "cell_type": "code",
   "execution_count": 15,
   "metadata": {},
   "outputs": [
    {
     "name": "stdout",
     "output_type": "stream",
     "text": [
      "Estimating biases using als...\n",
      "RMSE: 0.8155\n"
     ]
    }
   ],
   "source": [
    "baseline2 = BaselineOnly()\n",
    "baseline2.fit(trainset)\n",
    "predictions = baseline2.test(testset)\n",
    "baseline_only = accuracy.rmse(predictions)"
   ]
  },
  {
   "cell_type": "code",
   "execution_count": 16,
   "metadata": {
    "scrolled": false
   },
   "outputs": [
    {
     "name": "stdout",
     "output_type": "stream",
     "text": [
      "Evaluating RMSE of algorithm SVD on 3 split(s).\n",
      "\n",
      "                  Fold 1  Fold 2  Fold 3  Mean    Std     \n",
      "RMSE (testset)    0.8155  0.8122  0.8146  0.8141  0.0014  \n",
      "Fit time          40.53   40.41   40.82   40.59   0.17    \n",
      "Test time         3.50    3.62    3.54    3.55    0.05    \n"
     ]
    }
   ],
   "source": [
    "svd_basic = SVD(random_state=42)\n",
    "results = cross_validate(svd_basic, user_data, measures=['RMSE'], cv=3, n_jobs = -1, verbose=True)"
   ]
  },
  {
   "cell_type": "code",
   "execution_count": 18,
   "metadata": {},
   "outputs": [
    {
     "name": "stdout",
     "output_type": "stream",
     "text": [
      "RMSE: 0.8041\n"
     ]
    }
   ],
   "source": [
    "svd_basic.fit(trainset)\n",
    "predictions = svd_basic.test(testset)\n",
    "svd_simple = accuracy.rmse(predictions)"
   ]
  },
  {
   "cell_type": "code",
   "execution_count": null,
   "metadata": {},
   "outputs": [],
   "source": [
    "svd_param_grid = {'n_factors':[20, 40],\n",
    "                  'n_epochs': [10, 20], \n",
    "                  'lr_all': [0.002, 0.005],\n",
    "                  'reg_all': [0.02 ,0.04, 0.06],\n",
    "                  'biased': [True, False]}\n",
    "svd_gs_model = GridSearchCV(SVD,param_grid=svd_param_grid,joblib_verbose=5,cv=3)\n",
    "svd_gs_model.fit(user_data)\n",
    "svd_gs_model.best_params['rmse']"
   ]
  },
  {
   "cell_type": "code",
   "execution_count": 31,
   "metadata": {},
   "outputs": [
    {
     "name": "stdout",
     "output_type": "stream",
     "text": [
      "RMSE: 0.7950\n"
     ]
    }
   ],
   "source": [
    "svd_model = SVD(n_factors=20, n_epochs=20,\n",
    "                lr_all=.005, reg_all=0.02, random_state=42)\n",
    "svd_model.fit(trainset)\n",
    "predictions = svd_model.test(testset)\n",
    "svd_gs1 = accuracy.rmse(predictions)"
   ]
  },
  {
   "cell_type": "code",
   "execution_count": null,
   "metadata": {},
   "outputs": [],
   "source": [
    "svd_param_grid2 = {'n_factors':[5, 10, 20],\n",
    "                  'n_epochs': [20, 30, 40], \n",
    "                  'lr_all': [0.5, 0.05, .005],\n",
    "                  'reg_all': [0.01, 0.02]}\n",
    "svd_gs2_model = GridSearchCV(SVD,param_grid=svd_param_grid2,joblib_verbose=5, cv=3)\n",
    "svd_gs2_model.fit(user_data)\n",
    "svd_gs2_model.best_params['rmse']"
   ]
  },
  {
   "cell_type": "code",
   "execution_count": 32,
   "metadata": {
    "scrolled": false
   },
   "outputs": [
    {
     "name": "stdout",
     "output_type": "stream",
     "text": [
      "RMSE: 0.7829\n"
     ]
    }
   ],
   "source": [
    "svd2_model = SVD(n_factors=5, n_epochs=40, lr_all=0.005, reg_all=0.02, random_state=42)\n",
    "svd2_model.fit(trainset)\n",
    "predictions = svd2_model.test(testset)\n",
    "svd_gs2 = accuracy.rmse(predictions)"
   ]
  },
  {
   "cell_type": "code",
   "execution_count": null,
   "metadata": {},
   "outputs": [],
   "source": [
    "svd_param_grid3 = {'n_factors':[1, 3, 5],\n",
    "                   'n_epochs':[40, 50],\n",
    "                   'lr_all':[0.01, 0.005, 0.001],\n",
    "                   'reg_all':[0.02, 0.01]}\n",
    "svd_gs3_model = GridSearchCV(SVD, param_grid=svd_param_grid3, cv=3, joblib_verbose=10, n_jobs=-1, return_train_measures=True)\n",
    "svd_gs3_model.fit(user_data)\n",
    "svd_gs3_model.best_params['rmse']"
   ]
  },
  {
   "cell_type": "code",
   "execution_count": 9,
   "metadata": {
    "scrolled": false
   },
   "outputs": [
    {
     "name": "stdout",
     "output_type": "stream",
     "text": [
      "RMSE: 0.7813\n"
     ]
    }
   ],
   "source": [
    "svd3_model = SVD(n_factors=1, n_epochs=50, lr_all=0.005, reg_all=0.02, random_state=42)\n",
    "svd3_model.fit(trainset)\n",
    "predictions = svd3_model.test(testset)\n",
    "svd_gs3 = accuracy.rmse(predictions)"
   ]
  },
  {
   "cell_type": "code",
   "execution_count": null,
   "metadata": {
    "scrolled": true
   },
   "outputs": [],
   "source": [
    "nmf_param_grid = {'biased':[True, False],\n",
    "                  'n_factors':[15, 10, 5, 1],\n",
    "                  'n_epochs': [25, 50]}\n",
    "nmf_gs_model = GridSearchCV(NMF, param_grid=nmf_param_grid, cv=3, joblib_verbose=10, n_jobs=-1, return_train_measures=True)\n",
    "nmf_gs_model.fit(user_data)\n",
    "nmf_gs_model.best_params['rmse']"
   ]
  },
  {
   "cell_type": "code",
   "execution_count": 26,
   "metadata": {},
   "outputs": [
    {
     "name": "stdout",
     "output_type": "stream",
     "text": [
      "RMSE: 0.7844\n"
     ]
    }
   ],
   "source": [
    "nmf_model = NMF(n_factors=1, n_epochs=50, random_state=42, biased=True)\n",
    "nmf_model.fit(trainset)\n",
    "predictions = nmf_model.test(testset)\n",
    "nmf_gs = accuracy.rmse(predictions)"
   ]
  },
  {
   "cell_type": "code",
   "execution_count": null,
   "metadata": {
    "scrolled": false
   },
   "outputs": [],
   "source": [
    "svdpp_param_grid = {'n_factors':[1, 5, 10],\n",
    "                    'n_epochs':[25, 50],\n",
    "                    'lr_all':[0.005, 0.007],\n",
    "                    'reg_all':[0.02, 0.05]}\n",
    "svdpp_gs_model = GridSearchCV(SVDpp, param_grid=svdpp_param_grid, cv=3, joblib_verbose=10, n_jobs=-1, return_train_measures=True)\n",
    "svdpp_gs_model.fit(user_data)\n",
    "svdpp_gs_model.best_params['rmse']"
   ]
  },
  {
   "cell_type": "code",
   "execution_count": 30,
   "metadata": {
    "scrolled": true
   },
   "outputs": [
    {
     "name": "stdout",
     "output_type": "stream",
     "text": [
      "RMSE: 0.7838\n"
     ]
    }
   ],
   "source": [
    "SVDpp_model = SVDpp(n_factors=1, n_epochs=50, random_state=42, reg_all=0.05)\n",
    "SVDpp_model.fit(trainset)\n",
    "predictions = SVDpp_model.test(testset)\n",
    "SVDpp_gs = accuracy.rmse(predictions)"
   ]
  },
  {
   "cell_type": "code",
   "execution_count": 63,
   "metadata": {},
   "outputs": [],
   "source": [
    "X = ['Baseline Only', 'SVD Basic', 'SVD GS1', 'NMF GS', 'SVDpp GS', 'SVD GS3']\n",
    "y = [baseline_only, svd_simple, svd_gs1, nmf_gs, SVDpp_gs, svd_gs3]"
   ]
  },
  {
   "cell_type": "code",
   "execution_count": 123,
   "metadata": {},
   "outputs": [
    {
     "data": {
      "image/png": "[encoded data removed]",
      "text/plain": [
       "<Figure size 432x288 with 1 Axes>"
      ]
     },
     "metadata": {
      "needs_background": "light"
     },
     "output_type": "display_data"
    }
   ],
   "source": [
    "fig, ax = plt.subplots()\n",
    "plt.bar(X, y, color=['black', 'blue', 'blue', 'blue', 'blue', 'green'])\n",
    "plt.xticks(rotation=25)\n",
    "plt.ylim(0.7,.83)\n",
    "plt.grid(False)\n",
    "ax.set_title(\"Surprise Models\")\n",
    "plt.ylabel('Root Mean Squared Error (RMSE)')\n",
    "plt.savefig('Images/Model_bar.png', dpi=300, bbox_inches='tight');"
   ]
  },
  {
   "cell_type": "code",
   "execution_count": 10,
   "metadata": {},
   "outputs": [
    {
     "data": {
      "text/plain": [
       "<surprise.prediction_algorithms.matrix_factorization.SVD at 0x1b433ad2fd0>"
      ]
     },
     "execution_count": 10,
     "metadata": {},
     "output_type": "execute_result"
    }
   ],
   "source": [
    "trainset_full = user_data.build_full_trainset()\n",
    "svd3_model.fit(trainset_full)"
   ]
  },
  {
   "cell_type": "code",
   "execution_count": 44,
   "metadata": {},
   "outputs": [],
   "source": [
    "pickle.dump(svd3_model, open('Model/collab_model.sav', 'wb'))"
   ]
  },
  {
   "cell_type": "code",
   "execution_count": 11,
   "metadata": {},
   "outputs": [],
   "source": [
    "df_meta5 = pd.read_csv('Data/meta5.csv', index_col='asin')\n",
    "df_meta5.drop(columns =['Unnamed: 0'], inplace=True)"
   ]
  },
  {
   "cell_type": "code",
   "execution_count": 12,
   "metadata": {},
   "outputs": [
    {
     "name": "stdout",
     "output_type": "stream",
     "text": [
      "<class 'pandas.core.frame.DataFrame'>\n",
      "Index: 93734 entries, B0012GTZCK to B01HJCNGZ2\n",
      "Data columns (total 6 columns):\n",
      " #   Column        Non-Null Count  Dtype  \n",
      "---  ------        --------------  -----  \n",
      " 0   title         93734 non-null  object \n",
      " 1   author        93734 non-null  object \n",
      " 2   genre         93734 non-null  object \n",
      " 3   print_length  93734 non-null  float64\n",
      " 4   word_wise     93734 non-null  float64\n",
      " 5   lending       93734 non-null  float64\n",
      "dtypes: float64(3), object(3)\n",
      "memory usage: 5.0+ MB\n"
     ]
    }
   ],
   "source": [
    "df_meta5.info()"
   ]
  },
  {
   "cell_type": "code",
   "execution_count": 13,
   "metadata": {
    "scrolled": true
   },
   "outputs": [
    {
     "data": {
      "text/html": [
       "<div>\n",
       "<style scoped>\n",
       "    .dataframe tbody tr th:only-of-type {\n",
       "        vertical-align: middle;\n",
       "    }\n",
       "\n",
       "    .dataframe tbody tr th {\n",
       "        vertical-align: top;\n",
       "    }\n",
       "\n",
       "    .dataframe thead th {\n",
       "        text-align: right;\n",
       "    }\n",
       "</style>\n",
       "<table border=\"1\" class=\"dataframe\">\n",
       "  <thead>\n",
       "    <tr style=\"text-align: right;\">\n",
       "      <th></th>\n",
       "      <th>title</th>\n",
       "      <th>author</th>\n",
       "      <th>genre</th>\n",
       "      <th>print_length</th>\n",
       "      <th>word_wise</th>\n",
       "      <th>lending</th>\n",
       "    </tr>\n",
       "    <tr>\n",
       "      <th>asin</th>\n",
       "      <th></th>\n",
       "      <th></th>\n",
       "      <th></th>\n",
       "      <th></th>\n",
       "      <th></th>\n",
       "      <th></th>\n",
       "    </tr>\n",
       "  </thead>\n",
       "  <tbody>\n",
       "    <tr>\n",
       "      <th>B0012GTZCK</th>\n",
       "      <td>God in the White House</td>\n",
       "      <td>Randall Balmer</td>\n",
       "      <td>History</td>\n",
       "      <td>260.0</td>\n",
       "      <td>1.0</td>\n",
       "      <td>0.0</td>\n",
       "    </tr>\n",
       "    <tr>\n",
       "      <th>B0012LHGJ4</th>\n",
       "      <td>Vingt Mille Lieues sous les mers (French Editi...</td>\n",
       "      <td>Jules Verne</td>\n",
       "      <td>Reference</td>\n",
       "      <td>606.0</td>\n",
       "      <td>0.0</td>\n",
       "      <td>1.0</td>\n",
       "    </tr>\n",
       "    <tr>\n",
       "      <th>B0012RMVH0</th>\n",
       "      <td>Wood-Carving Design and Workmanship - Kindle e...</td>\n",
       "      <td>George Jack</td>\n",
       "      <td>Arts &amp; Photography</td>\n",
       "      <td>310.0</td>\n",
       "      <td>0.0</td>\n",
       "      <td>0.0</td>\n",
       "    </tr>\n",
       "    <tr>\n",
       "      <th>B0012TAD1O</th>\n",
       "      <td>Souls Night (The Vampire Pacts) - Kindle edition</td>\n",
       "      <td>Kallysten</td>\n",
       "      <td>Romance</td>\n",
       "      <td>74.0</td>\n",
       "      <td>1.0</td>\n",
       "      <td>1.0</td>\n",
       "    </tr>\n",
       "    <tr>\n",
       "      <th>B0012U0NKE</th>\n",
       "      <td>The Misplaced Horse (1) eBook</td>\n",
       "      <td>Constance Downes</td>\n",
       "      <td>Comics, Manga &amp; Graphic Novels</td>\n",
       "      <td>444.0</td>\n",
       "      <td>0.0</td>\n",
       "      <td>1.0</td>\n",
       "    </tr>\n",
       "  </tbody>\n",
       "</table>\n",
       "</div>"
      ],
      "text/plain": [
       "                                                        title  \\\n",
       "asin                                                            \n",
       "B0012GTZCK                             God in the White House   \n",
       "B0012LHGJ4  Vingt Mille Lieues sous les mers (French Editi...   \n",
       "B0012RMVH0  Wood-Carving Design and Workmanship - Kindle e...   \n",
       "B0012TAD1O   Souls Night (The Vampire Pacts) - Kindle edition   \n",
       "B0012U0NKE                      The Misplaced Horse (1) eBook   \n",
       "\n",
       "                        author                           genre  print_length  \\\n",
       "asin                                                                           \n",
       "B0012GTZCK      Randall Balmer                         History         260.0   \n",
       "B0012LHGJ4        Jules Verne                        Reference         606.0   \n",
       "B0012RMVH0         George Jack              Arts & Photography         310.0   \n",
       "B0012TAD1O          Kallysten                          Romance          74.0   \n",
       "B0012U0NKE   Constance Downes   Comics, Manga & Graphic Novels         444.0   \n",
       "\n",
       "            word_wise  lending  \n",
       "asin                            \n",
       "B0012GTZCK        1.0      0.0  \n",
       "B0012LHGJ4        0.0      1.0  \n",
       "B0012RMVH0        0.0      0.0  \n",
       "B0012TAD1O        1.0      1.0  \n",
       "B0012U0NKE        0.0      1.0  "
      ]
     },
     "execution_count": 13,
     "metadata": {},
     "output_type": "execute_result"
    }
   ],
   "source": [
    "df_meta5.head()"
   ]
  },
  {
   "cell_type": "code",
   "execution_count": 14,
   "metadata": {},
   "outputs": [],
   "source": [
    "df_user = df_rev5.set_index('reviewerID')\n",
    "df_user.drop(columns=['Unnamed: 0', 'reviewText', 'overall'], inplace=True)"
   ]
  },
  {
   "cell_type": "code",
   "execution_count": 15,
   "metadata": {
    "scrolled": false
   },
   "outputs": [
    {
     "data": {
      "text/html": [
       "<div>\n",
       "<style scoped>\n",
       "    .dataframe tbody tr th:only-of-type {\n",
       "        vertical-align: middle;\n",
       "    }\n",
       "\n",
       "    .dataframe tbody tr th {\n",
       "        vertical-align: top;\n",
       "    }\n",
       "\n",
       "    .dataframe thead th {\n",
       "        text-align: right;\n",
       "    }\n",
       "</style>\n",
       "<table border=\"1\" class=\"dataframe\">\n",
       "  <thead>\n",
       "    <tr style=\"text-align: right;\">\n",
       "      <th></th>\n",
       "      <th>asin</th>\n",
       "    </tr>\n",
       "    <tr>\n",
       "      <th>reviewerID</th>\n",
       "      <th></th>\n",
       "    </tr>\n",
       "  </thead>\n",
       "  <tbody>\n",
       "    <tr>\n",
       "      <th>AYKIGSPZ8TLR7</th>\n",
       "      <td>B0012LHGJ4</td>\n",
       "    </tr>\n",
       "    <tr>\n",
       "      <th>AV4TJUAJJL3IV</th>\n",
       "      <td>B0012RMVH0</td>\n",
       "    </tr>\n",
       "    <tr>\n",
       "      <th>AQR816QPFU5JE</th>\n",
       "      <td>B0012RMVH0</td>\n",
       "    </tr>\n",
       "    <tr>\n",
       "      <th>A1KURTCUDMSNF4</th>\n",
       "      <td>B0012RMVH0</td>\n",
       "    </tr>\n",
       "    <tr>\n",
       "      <th>A3GDLS2QG56059</th>\n",
       "      <td>B0012RMVH0</td>\n",
       "    </tr>\n",
       "    <tr>\n",
       "      <th>...</th>\n",
       "      <td>...</td>\n",
       "    </tr>\n",
       "    <tr>\n",
       "      <th>A1M2UIBQGKEUAU</th>\n",
       "      <td>B01HJCNGZ2</td>\n",
       "    </tr>\n",
       "    <tr>\n",
       "      <th>A2GCEOF7KVQK1U</th>\n",
       "      <td>B01HJCNGZ2</td>\n",
       "    </tr>\n",
       "    <tr>\n",
       "      <th>A3ETWQJ8WRQFHX</th>\n",
       "      <td>B01HJCNGZ2</td>\n",
       "    </tr>\n",
       "    <tr>\n",
       "      <th>ARKWPH17ITFGS</th>\n",
       "      <td>B01HJCNGZ2</td>\n",
       "    </tr>\n",
       "    <tr>\n",
       "      <th>AQ62OQDHMHBLY</th>\n",
       "      <td>B01HJCNGZ2</td>\n",
       "    </tr>\n",
       "  </tbody>\n",
       "</table>\n",
       "<p>1307550 rows × 1 columns</p>\n",
       "</div>"
      ],
      "text/plain": [
       "                      asin\n",
       "reviewerID                \n",
       "AYKIGSPZ8TLR7   B0012LHGJ4\n",
       "AV4TJUAJJL3IV   B0012RMVH0\n",
       "AQR816QPFU5JE   B0012RMVH0\n",
       "A1KURTCUDMSNF4  B0012RMVH0\n",
       "A3GDLS2QG56059  B0012RMVH0\n",
       "...                    ...\n",
       "A1M2UIBQGKEUAU  B01HJCNGZ2\n",
       "A2GCEOF7KVQK1U  B01HJCNGZ2\n",
       "A3ETWQJ8WRQFHX  B01HJCNGZ2\n",
       "ARKWPH17ITFGS   B01HJCNGZ2\n",
       "AQ62OQDHMHBLY   B01HJCNGZ2\n",
       "\n",
       "[1307550 rows x 1 columns]"
      ]
     },
     "execution_count": 15,
     "metadata": {},
     "output_type": "execute_result"
    }
   ],
   "source": [
    "df_user"
   ]
  },
  {
   "cell_type": "code",
   "execution_count": 15,
   "metadata": {},
   "outputs": [],
   "source": [
    "df_user.to_csv('Data/df_user.csv')"
   ]
  },
  {
   "cell_type": "code",
   "execution_count": 16,
   "metadata": {},
   "outputs": [],
   "source": [
    "def user_recommend_books():\n",
    "    \n",
    "    user = input('UserId: ')\n",
    "    n_recs = int(input('How many recommendations? '))\n",
    "    \n",
    "    have_reviewed = list(df_user.loc[user, 'asin'])\n",
    "    not_reviewed = df_meta5.copy()\n",
    "    not_reviewed.drop(have_reviewed, inplace=True)\n",
    "    not_reviewed.reset_index(inplace=True)\n",
    "    not_reviewed['est_rating'] = not_reviewed['asin'].apply(lambda x: svd3_model.predict(user, x).est)\n",
    "    not_reviewed.sort_values(by='est_rating', ascending=False, inplace=True)\n",
    "    return not_reviewed.head(n_recs)"
   ]
  },
  {
   "cell_type": "code",
   "execution_count": 17,
   "metadata": {
    "scrolled": true
   },
   "outputs": [
    {
     "name": "stdout",
     "output_type": "stream",
     "text": [
      "UserId: A26GE9ZG68SKIQ\n",
      "How many recommendations? 10\n"
     ]
    },
    {
     "data": {
      "text/html": [
       "<div>\n",
       "<style scoped>\n",
       "    .dataframe tbody tr th:only-of-type {\n",
       "        vertical-align: middle;\n",
       "    }\n",
       "\n",
       "    .dataframe tbody tr th {\n",
       "        vertical-align: top;\n",
       "    }\n",
       "\n",
       "    .dataframe thead th {\n",
       "        text-align: right;\n",
       "    }\n",
       "</style>\n",
       "<table border=\"1\" class=\"dataframe\">\n",
       "  <thead>\n",
       "    <tr style=\"text-align: right;\">\n",
       "      <th></th>\n",
       "      <th>asin</th>\n",
       "      <th>title</th>\n",
       "      <th>author</th>\n",
       "      <th>genre</th>\n",
       "      <th>print_length</th>\n",
       "      <th>word_wise</th>\n",
       "      <th>lending</th>\n",
       "      <th>est_rating</th>\n",
       "    </tr>\n",
       "  </thead>\n",
       "  <tbody>\n",
       "    <tr>\n",
       "      <th>46277</th>\n",
       "      <td>B00M64QIWW</td>\n",
       "      <td>John &amp; Jackie - Kindle edition</td>\n",
       "      <td>TJ Klune</td>\n",
       "      <td>Literature &amp; Fiction</td>\n",
       "      <td>95.0</td>\n",
       "      <td>1.0</td>\n",
       "      <td>1.0</td>\n",
       "      <td>4.962664</td>\n",
       "    </tr>\n",
       "    <tr>\n",
       "      <th>50633</th>\n",
       "      <td>B00O02AMKW</td>\n",
       "      <td>Snowfall (Novella) - Kindle edition</td>\n",
       "      <td>Mary Ann Rivers</td>\n",
       "      <td>Literature &amp; Fiction</td>\n",
       "      <td>143.0</td>\n",
       "      <td>1.0</td>\n",
       "      <td>0.0</td>\n",
       "      <td>4.936640</td>\n",
       "    </tr>\n",
       "    <tr>\n",
       "      <th>71628</th>\n",
       "      <td>B012WCOYQ4</td>\n",
       "      <td>The Rise of Ren Crown eBook</td>\n",
       "      <td>Anne Zoelle</td>\n",
       "      <td>Children's eBooks</td>\n",
       "      <td>449.0</td>\n",
       "      <td>1.0</td>\n",
       "      <td>1.0</td>\n",
       "      <td>4.906841</td>\n",
       "    </tr>\n",
       "    <tr>\n",
       "      <th>58577</th>\n",
       "      <td>B00SEKT3M4</td>\n",
       "      <td>The Player (Rockliffe Book 3) - Kindle edition</td>\n",
       "      <td>Stella Riley</td>\n",
       "      <td>Literature &amp; Fiction</td>\n",
       "      <td>327.0</td>\n",
       "      <td>1.0</td>\n",
       "      <td>1.0</td>\n",
       "      <td>4.904327</td>\n",
       "    </tr>\n",
       "    <tr>\n",
       "      <th>6145</th>\n",
       "      <td>B006BG7Q1I</td>\n",
       "      <td>Love Intertwined Vol. 1 - Kindle edition</td>\n",
       "      <td>Pepper Pace</td>\n",
       "      <td>Literature &amp; Fiction</td>\n",
       "      <td>222.0</td>\n",
       "      <td>1.0</td>\n",
       "      <td>1.0</td>\n",
       "      <td>4.898928</td>\n",
       "    </tr>\n",
       "    <tr>\n",
       "      <th>75479</th>\n",
       "      <td>B015WXSNFI</td>\n",
       "      <td>Holy Spy: A John Shakespeare Mystery - Kindle ...</td>\n",
       "      <td>Rory Clements</td>\n",
       "      <td>Mystery, Thriller &amp; Suspense</td>\n",
       "      <td>485.0</td>\n",
       "      <td>1.0</td>\n",
       "      <td>0.0</td>\n",
       "      <td>4.888171</td>\n",
       "    </tr>\n",
       "    <tr>\n",
       "      <th>50674</th>\n",
       "      <td>B00O0AG24Y</td>\n",
       "      <td>Inspector Hobbes and the Gold Diggers: Comedy ...</td>\n",
       "      <td>Wilkie Martin</td>\n",
       "      <td>Mystery, Thriller &amp; Suspense</td>\n",
       "      <td>329.0</td>\n",
       "      <td>1.0</td>\n",
       "      <td>1.0</td>\n",
       "      <td>4.887218</td>\n",
       "    </tr>\n",
       "    <tr>\n",
       "      <th>18478</th>\n",
       "      <td>B00BR70E2E</td>\n",
       "      <td>Captain Lacey Regency Mysteries Volume Two - K...</td>\n",
       "      <td>Ashley Gardner</td>\n",
       "      <td>Mystery, Thriller &amp; Suspense</td>\n",
       "      <td>899.0</td>\n",
       "      <td>1.0</td>\n",
       "      <td>1.0</td>\n",
       "      <td>4.873885</td>\n",
       "    </tr>\n",
       "    <tr>\n",
       "      <th>72600</th>\n",
       "      <td>B013WZRWMS</td>\n",
       "      <td>Ships and Stings and Wedding Rings (The Chron...</td>\n",
       "      <td>Jodi Taylor</td>\n",
       "      <td>Science Fiction &amp; Fantasy</td>\n",
       "      <td>51.0</td>\n",
       "      <td>1.0</td>\n",
       "      <td>0.0</td>\n",
       "      <td>4.872621</td>\n",
       "    </tr>\n",
       "    <tr>\n",
       "      <th>39149</th>\n",
       "      <td>B00JH6HSQW</td>\n",
       "      <td>A Woman of Experience (The Sojourners Series, ...</td>\n",
       "      <td>Kay Gregory</td>\n",
       "      <td>Literature &amp; Fiction</td>\n",
       "      <td>394.0</td>\n",
       "      <td>1.0</td>\n",
       "      <td>1.0</td>\n",
       "      <td>4.862539</td>\n",
       "    </tr>\n",
       "  </tbody>\n",
       "</table>\n",
       "</div>"
      ],
      "text/plain": [
       "             asin                                              title  \\\n",
       "46277  B00M64QIWW                     John & Jackie - Kindle edition   \n",
       "50633  B00O02AMKW                Snowfall (Novella) - Kindle edition   \n",
       "71628  B012WCOYQ4                        The Rise of Ren Crown eBook   \n",
       "58577  B00SEKT3M4     The Player (Rockliffe Book 3) - Kindle edition   \n",
       "6145   B006BG7Q1I           Love Intertwined Vol. 1 - Kindle edition   \n",
       "75479  B015WXSNFI  Holy Spy: A John Shakespeare Mystery - Kindle ...   \n",
       "50674  B00O0AG24Y  Inspector Hobbes and the Gold Diggers: Comedy ...   \n",
       "18478  B00BR70E2E  Captain Lacey Regency Mysteries Volume Two - K...   \n",
       "72600  B013WZRWMS   Ships and Stings and Wedding Rings (The Chron...   \n",
       "39149  B00JH6HSQW  A Woman of Experience (The Sojourners Series, ...   \n",
       "\n",
       "                  author                         genre  print_length  \\\n",
       "46277          TJ Klune           Literature & Fiction          95.0   \n",
       "50633   Mary Ann Rivers           Literature & Fiction         143.0   \n",
       "71628       Anne Zoelle              Children's eBooks         449.0   \n",
       "58577      Stella Riley           Literature & Fiction         327.0   \n",
       "6145        Pepper Pace           Literature & Fiction         222.0   \n",
       "75479     Rory Clements   Mystery, Thriller & Suspense         485.0   \n",
       "50674     Wilkie Martin   Mystery, Thriller & Suspense         329.0   \n",
       "18478    Ashley Gardner   Mystery, Thriller & Suspense         899.0   \n",
       "72600       Jodi Taylor      Science Fiction & Fantasy          51.0   \n",
       "39149       Kay Gregory           Literature & Fiction         394.0   \n",
       "\n",
       "       word_wise  lending  est_rating  \n",
       "46277        1.0      1.0    4.962664  \n",
       "50633        1.0      0.0    4.936640  \n",
       "71628        1.0      1.0    4.906841  \n",
       "58577        1.0      1.0    4.904327  \n",
       "6145         1.0      1.0    4.898928  \n",
       "75479        1.0      0.0    4.888171  \n",
       "50674        1.0      1.0    4.887218  \n",
       "18478        1.0      1.0    4.873885  \n",
       "72600        1.0      0.0    4.872621  \n",
       "39149        1.0      1.0    4.862539  "
      ]
     },
     "execution_count": 17,
     "metadata": {},
     "output_type": "execute_result"
    }
   ],
   "source": [
    "user_recommend_books()"
   ]
  },
  {
   "cell_type": "code",
   "execution_count": null,
   "metadata": {},
   "outputs": [],
   "source": []
  }
 ],
 "metadata": {
  "kernelspec": {
   "display_name": "kindle-env",
   "language": "python",
   "name": "kindle-env"
  },
  "language_info": {
   "codemirror_mode": {
    "name": "ipython",
    "version": 3
   },
   "file_extension": ".py",
   "mimetype": "text/x-python",
   "name": "python",
   "nbconvert_exporter": "python",
   "pygments_lexer": "ipython3",
   "version": "3.9.7"
  }
 },
 "nbformat": 4,
 "nbformat_minor": 4
}
